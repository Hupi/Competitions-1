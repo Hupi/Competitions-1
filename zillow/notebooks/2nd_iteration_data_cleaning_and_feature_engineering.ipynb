{
 "cells": [
  {
   "cell_type": "code",
   "execution_count": 2,
   "metadata": {},
   "outputs": [],
   "source": [
    "import pandas as pd\n",
    "import numpy as np\n",
    "import sklearn as sk\n",
    "import pickle\n",
    "import xgboost\n",
    "import lightgbm as lgb\n",
    "\n",
    "from sklearn import linear_model\n",
    "from sklearn.preprocessing import Imputer, LabelEncoder\n",
    "from sklearn.metrics import explained_variance_score, mean_absolute_error\n",
    "import matplotlib.pyplot as plt\n",
    "\n",
    "%matplotlib inline"
   ]
  },
  {
   "cell_type": "markdown",
   "metadata": {},
   "source": [
    "# load data"
   ]
  },
  {
   "cell_type": "code",
   "execution_count": 1,
   "metadata": {},
   "outputs": [
    {
     "name": "stderr",
     "output_type": "stream",
     "text": [
      "/Users/dai_li/Workspace/VirtualEnv/competition/lib/python2.7/site-packages/IPython/core/interactiveshell.py:2718: DtypeWarning: Columns (22,32,34,49,55) have mixed types. Specify dtype option on import or set low_memory=False.\n",
      "  interactivity=interactivity, compiler=compiler, result=result)\n"
     ]
    }
   ],
   "source": [
    "df_properties_2016 = pd.read_csv('../data/properties_2016.csv')"
   ]
  },
  {
   "cell_type": "code",
   "execution_count": 3,
   "metadata": {},
   "outputs": [],
   "source": [
    "df_transactions_2016 = pd.read_csv('../data/train_2016_v2.csv', parse_dates=['transactiondate'])"
   ]
  },
  {
   "cell_type": "code",
   "execution_count": 4,
   "metadata": {},
   "outputs": [],
   "source": [
    "df_properties = df_properties_2016\n",
    "df_transactions = df_transactions_2016"
   ]
  },
  {
   "cell_type": "code",
   "execution_count": 5,
   "metadata": {},
   "outputs": [],
   "source": [
    "df = pd.merge(left=df_properties, right=df_transactions, on='parcelid', how= 'left')"
   ]
  },
  {
   "cell_type": "markdown",
   "metadata": {},
   "source": [
    "# Pre-process data"
   ]
  },
  {
   "cell_type": "markdown",
   "metadata": {},
   "source": [
    "## define fields"
   ]
  },
  {
   "cell_type": "code",
   "execution_count": null,
   "metadata": {},
   "outputs": [],
   "source": [
    "# lets make this assumption -- all the features are generated per monthly basis\n",
    "# lets assume we can use future information - use the log error to generate some features"
   ]
  },
  {
   "cell_type": "markdown",
   "metadata": {},
   "source": [
    "## categorical features"
   ]
  },
  {
   "cell_type": "code",
   "execution_count": 6,
   "metadata": {},
   "outputs": [],
   "source": [
    "# add censustract\n",
    "t = pd.DataFrame(df['rawcensustractandblock'].astype(str).str.split('.',1).tolist(),columns = ['censustrack','censusblock'])\n",
    "df['censustrack'] = t['censustrack']\n",
    "\n",
    "t = pd.DataFrame(df_properties['rawcensustractandblock'].astype(str).str.split('.',1).tolist(),columns = ['censustrack','censusblock'])\n",
    "df_properties['censustrack'] = t['censustrack']\n"
   ]
  },
  {
   "cell_type": "code",
   "execution_count": 7,
   "metadata": {},
   "outputs": [],
   "source": [
    "###################################\n",
    "####### DIMENSION: SPACE ##########\n",
    "###################################\n",
    "\n",
    "parcel_location_variables = ['regionidneighborhood','regionidzip', 'regionidcity', 'censustrack','rawcensustractandblock']\n",
    "\n",
    "# iterate through all above regions\n",
    "for region in parcel_location_variables:\n",
    "    \n",
    "    #### COUNT OF PROPERTIES ####\n",
    "    # number of properties in the zipcode\n",
    "    df['f_num_n_prop_in_'+region] = df[region].map(df_properties[region].value_counts().to_dict())\n",
    "    \n",
    "    ##### HOW NEW IS THIS BUILDING COMPARING TO OTHER BUILDINGS #####\n",
    "    df['f_cat_median_year_in_'+region] = df[region].map(df_properties.groupby(region)['yearbuilt'].aggregate('median').to_dict())\n",
    "    df['f_num_how_new_in_'+region] = df['yearbuilt'] - df['f_cat_median_year_in_'+region]\n",
    "\n",
    "    # Neighborhood latitude and longitude\n",
    "    df['f_num_median_lat_in_'+region] = df[region].map(df_properties.groupby(region)['latitude'].aggregate('median').to_dict())\n",
    "    df['f_num_median_lon_in_'+region] = df[region].map(df_properties.groupby(region)['longitude'].aggregate('median').to_dict())\n",
    "\n",
    "    #### TRANSACTION RELATED ####\n",
    "    # how many transaction made in this region per observed properties\n",
    "    # this tells us how active a region is\n",
    "    df['f_num_pct_trans_in_'+region] = df.groupby(region)['logerror'].aggregate('count') * 1.0 / df['f_num_n_prop_in_'+region] \n",
    "\n",
    "    #### LOG ERROR RELATED ####\n",
    "    df['f_num_error_std_in_'+region] = df[region].map(df[df.transactiondate < '2016-10-01'].groupby(region)['logerror'].aggregate(\"std\").to_dict())\n",
    "    df['f_num_error_mean_in_'+region] = df[region].map(df[df.transactiondate < '2016-10-01'].groupby(region)['logerror'].aggregate(\"mean\").to_dict())\n",
    "    \n",
    "    "
   ]
  },
  {
   "cell_type": "code",
   "execution_count": 8,
   "metadata": {},
   "outputs": [],
   "source": [
    "###################################\n",
    "####### DIMENSION: TIME ###########\n",
    "###################################\n",
    "\n",
    "time_windows = [30,60,90,180]\n",
    "\n",
    "for time_window in time_windows:\n",
    "    #### TRANSACTION RELATED FEATURES #####\n",
    "    # I assume in the actual model supply/demand should also be used\n",
    "    # now I will try to use historical transaction data to mimic demand\n",
    "    # what is this value comparing to past few months?\n",
    "    \n",
    "    #### LOG ERROR RELATED FEATURES ####\n",
    "    # what is the corresponding logerror rate?\n",
    "    \n",
    "    #### LOGERROR RATE FOR CATEGORICAL VARIABLES #####\n",
    "    # assumption is that model error should persist for same type of properties # \n",
    "    # now this is tricky - logerror is not taken into consideration in the actual model\n",
    "    # so this may end up being useless\n",
    "    # but probably worth confirming. we will see\n",
    "    const_numerator = 5\n",
    "    const_denominator = 5\n",
    "\n",
    "    #### LOGERROR RATE FOR CONTINUOUS VARIABLE BINS #####\n",
    "    # assump is that model error should persist for the same type of properties # \n",
    "    # same to above #\n",
    "    \n",
    "    # ***** generate absolute and relative error for each month **** ### \n",
    "    \n",
    "    \n",
    "    ### generate seasonality features ####\n",
    "    # day of week\n",
    "    # week of month\n",
    "    # quarter of year (only for 2017)\n"
   ]
  },
  {
   "cell_type": "code",
   "execution_count": 9,
   "metadata": {},
   "outputs": [
    {
     "data": {
      "text/plain": [
       "<matplotlib.axes._subplots.AxesSubplot at 0x114a1cdd0>"
      ]
     },
     "execution_count": 9,
     "metadata": {},
     "output_type": "execute_result"
    },
    {
     "data": {
      "image/png": "[encoded data removed]",
      "text/plain": [
       "<matplotlib.figure.Figure at 0x114a44990>"
      ]
     },
     "metadata": {},
     "output_type": "display_data"
    }
   ],
   "source": [
    "df.groupby('transactiondate')['transactiondate'].aggregate('count').rolling(window = 60,min_periods=0).mean().plot()"
   ]
  },
  {
   "cell_type": "code",
   "execution_count": null,
   "metadata": {},
   "outputs": [],
   "source": [
    "#### LOG ERROR RELATED TERMS ####\n"
   ]
  },
  {
   "cell_type": "code",
   "execution_count": null,
   "metadata": {},
   "outputs": [],
   "source": [
    "###################################\n",
    "#######  ###########\n",
    "###################################\n",
    "  "
   ]
  },
  {
   "cell_type": "code",
   "execution_count": 161,
   "metadata": {},
   "outputs": [
    {
     "data": {
      "text/plain": [
       "0   NaT\n",
       "1   NaT\n",
       "2   NaT\n",
       "3   NaT\n",
       "4   NaT\n",
       "Name: transactiondate, dtype: datetime64[ns]"
      ]
     },
     "execution_count": 161,
     "metadata": {},
     "output_type": "execute_result"
    }
   ],
   "source": [
    "df.transactiondate.head()"
   ]
  },
  {
   "cell_type": "markdown",
   "metadata": {},
   "source": [
    "# save the cleaned data"
   ]
  },
  {
   "cell_type": "code",
   "execution_count": 10,
   "metadata": {},
   "outputs": [],
   "source": [
    "df.to_csv('../tmp/processed_df_2016.csv', index=False, header=True)"
   ]
  },
  {
   "cell_type": "code",
   "execution_count": 159,
   "metadata": {},
   "outputs": [],
   "source": [
    "# pickle.dump(df, open('../tmp/processed_df_2016.pkl', 'w'))"
   ]
  },
  {
   "cell_type": "markdown",
   "metadata": {},
   "source": [
    "# process data and generate features"
   ]
  },
  {
   "cell_type": "code",
   "execution_count": 12,
   "metadata": {},
   "outputs": [],
   "source": [
    "all_fields = set(df.columns)\n",
    "\n",
    "# these are fields that are used to identify fields\n",
    "identifiers = set(['transactiondate', 'parcelid'])\n",
    "\n",
    "# log error that we want to model\n",
    "label = set(['logerror'])\n",
    "\n",
    "# the following are categorical features\n",
    "feats_objects = set(\n",
    " ['taxdelinquencyflag',\n",
    " 'propertycountylandusecode',\n",
    " 'propertyzoningdesc',\n",
    " 'fireplaceflag',\n",
    " 'hashottuborspa']\n",
    ")\n",
    "\n",
    "# the following are numerical features that should be treated as categorical features\n",
    "feats_numeric_to_categorical = set([\n",
    "    'airconditioningtypeid',\n",
    "    'architecturalstyletypeid',\n",
    "    'buildingqualitytypeid',\n",
    "    'buildingclasstypeid',\n",
    "    'decktypeid',\n",
    "    'fips',\n",
    "    'heatingorsystemtypeid',\n",
    "    'propertylandusetypeid',\n",
    "    'regionidcounty',\n",
    "    'regionidcity',\n",
    "    'regionidzip',\n",
    "    'regionidneighborhood',\n",
    "    'storytypeid',\n",
    "    'typeconstructiontypeid',\n",
    "    'yearbuilt',\n",
    "    'assessmentyear',\n",
    "    'taxdelinquencyyear'\n",
    "])\n",
    "\n",
    "\n",
    "# the rest are numeric features\n",
    "feats_numeric = set([\n",
    "    'basementsqft',\n",
    "    'bathroomcnt',\n",
    "    'bedroomcnt',\n",
    "    'calculatedbathnbr',\n",
    "    'threequarterbathnbr',\n",
    "    'finishedfloor1squarefeet',\n",
    "    'calculatedfinishedsquarefeet',\n",
    "    'finishedsquarefeet6',\n",
    "    'finishedsquarefeet12',\n",
    "    'finishedsquarefeet13',\n",
    "    'finishedsquarefeet15',\n",
    "    'finishedsquarefeet50',\n",
    "    'fireplacecnt',\n",
    "    'fullbathcnt',\n",
    "    'garagecarcnt',\n",
    "    'garagetotalsqft',\n",
    "    'hashottuborspa',\n",
    "    'lotsizesquarefeet',\n",
    "    'numberofstories',\n",
    "    'poolcnt',\n",
    "    'poolsizesum',\n",
    "    'pooltypeid10',\n",
    "    'pooltypeid2',\n",
    "    'pooltypeid7',\n",
    "    'roomcnt',\n",
    "    'unitcnt',\n",
    "    'yardbuildingsqft17',\n",
    "    'yardbuildingsqft26',\n",
    "    'taxvaluedollarcnt',\n",
    "    'structuretaxvaluedollarcnt',\n",
    "    'landtaxvaluedollarcnt',\n",
    "    'taxamount'\n",
    "])\n",
    "\n",
    "feats_numerics_feature_engineered = set([col for col in df.columns if 'f_num' in col])\n",
    "\n",
    "\n",
    "feats_categorical_feature_engineered = set([col for col in df.columns if 'f_cat' in col])\n",
    "\n",
    "\n",
    "# fields that are thrown away for now\n",
    "feats_for_consideration_later = set([\n",
    "    'latitude',\n",
    "    'longitude',\n",
    "    'rawcensustractandblock',\n",
    "    'censustractandblock',\n",
    "])"
   ]
  },
  {
   "cell_type": "code",
   "execution_count": 13,
   "metadata": {},
   "outputs": [],
   "source": [
    "feats_categorical = feats_numeric_to_categorical | feats_objects | feats_categorical_feature_engineered\n",
    "feats_numeric = feats_numeric | feats_numerics_feature_engineered \n",
    "feats = feats_categorical | feats_numeric \n",
    "\n",
    "feats_categorical = list(feats_categorical)\n",
    "feats_numeric = list(feats_numeric)\n",
    "feats = list(feats)"
   ]
  },
  {
   "cell_type": "markdown",
   "metadata": {},
   "source": [
    "# save results to pick files"
   ]
  },
  {
   "cell_type": "code",
   "execution_count": 20,
   "metadata": {},
   "outputs": [],
   "source": [
    "pickle.dump(feats_categorical, open('../tmp/feats_categorical.pkl', 'w'))\n",
    "pickle.dump(feats_numeric, open('../tmp/feats_numeric.pkl', 'w'))\n",
    "pickle.dump(feats, open('../tmp/feats.pkl', 'w'))"
   ]
  },
  {
   "cell_type": "code",
   "execution_count": 21,
   "metadata": {},
   "outputs": [],
   "source": [
    "mask_train = (df.transactiondate < '2018-10-01')\n",
    "mask_validation = (df.transactiondate >= '2016-10-01')\n",
    "mask_prediction = ~df.parcelid.isnull()"
   ]
  },
  {
   "cell_type": "code",
   "execution_count": 22,
   "metadata": {},
   "outputs": [],
   "source": [
    "pickle.dump(mask_train, open('../tmp/mask_train.pkl', 'w'))\n",
    "pickle.dump(mask_validation, open('../tmp/mask_validation.pkl', 'w'))\n",
    "pickle.dump(mask_prediction, open('../tmp/mask_prediction.pkl', 'w'))"
   ]
  }
 ],
 "metadata": {
  "kernelspec": {
   "display_name": "Python 2",
   "language": "python",
   "name": "python2"
  },
  "language_info": {
   "codemirror_mode": {
    "name": "ipython",
    "version": 2
   },
   "file_extension": ".py",
   "mimetype": "text/x-python",
   "name": "python",
   "nbconvert_exporter": "python",
   "pygments_lexer": "ipython2",
   "version": "2.7.14"
  }
 },
 "nbformat": 4,
 "nbformat_minor": 2
}

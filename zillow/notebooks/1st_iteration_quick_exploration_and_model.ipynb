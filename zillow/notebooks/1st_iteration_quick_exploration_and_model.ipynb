{
 "cells": [
  {
   "cell_type": "markdown",
   "metadata": {},
   "source": [
    "# Initial look at zillow data set"
   ]
  },
  {
   "cell_type": "code",
   "execution_count": 728,
   "metadata": {},
   "outputs": [],
   "source": [
    "import pandas as pd\n",
    "import numpy as np\n",
    "import sklearn as sk\n",
    "import pickle\n",
    "import xgboost\n",
    "\n",
    "from sklearn import linear_model\n",
    "from sklearn.preprocessing import Imputer, LabelEncoder\n",
    "from sklearn.metrics import explained_variance_score, mean_absolute_error\n",
    "import matplotlib.pyplot as plt\n",
    "\n",
    "%matplotlib inline"
   ]
  },
  {
   "cell_type": "code",
   "execution_count": 729,
   "metadata": {},
   "outputs": [],
   "source": [
    "df_properties_2016 = pd.read_csv('../data/properties_2016.csv')"
   ]
  },
  {
   "cell_type": "code",
   "execution_count": 730,
   "metadata": {
    "scrolled": true
   },
   "outputs": [],
   "source": [
    "df_properties_2017 = pd.read_csv('../data/properties_2017.csv')"
   ]
  },
  {
   "cell_type": "code",
   "execution_count": 731,
   "metadata": {},
   "outputs": [],
   "source": [
    "df_properties = df_properties_2017"
   ]
  },
  {
   "cell_type": "code",
   "execution_count": 732,
   "metadata": {},
   "outputs": [],
   "source": [
    "df_transactions_2016 = pd.read_csv('../data/train_2016.csv', parse_dates=['transactiondate'])\n",
    "df_transactions_2017 = pd.read_csv('../data/train_2017.csv', parse_dates=['transactiondate'])"
   ]
  },
  {
   "cell_type": "code",
   "execution_count": 733,
   "metadata": {},
   "outputs": [],
   "source": [
    "df_transactions = pd.concat((df_transactions_2016, df_transactions_2017), axis = 0)\n",
    "# df_transactions = df_transactions_2016"
   ]
  },
  {
   "cell_type": "code",
   "execution_count": 734,
   "metadata": {
    "scrolled": true
   },
   "outputs": [
    {
     "data": {
      "text/plain": [
       "<matplotlib.axes._subplots.AxesSubplot at 0x12112e190>"
      ]
     },
     "execution_count": 734,
     "metadata": {},
     "output_type": "execute_result"
    },
    {
     "data": {
      "image/png": "[encoded data removed]",
      "text/plain": [
       "<matplotlib.figure.Figure at 0x120e95a10>"
      ]
     },
     "metadata": {},
     "output_type": "display_data"
    }
   ],
   "source": [
    "df_transactions.transactiondate.hist()"
   ]
  },
  {
   "cell_type": "markdown",
   "metadata": {},
   "source": [
    "### check duplicates for each parcelID"
   ]
  },
  {
   "cell_type": "code",
   "execution_count": 735,
   "metadata": {},
   "outputs": [
    {
     "data": {
      "text/plain": [
       "True"
      ]
     },
     "execution_count": 735,
     "metadata": {},
     "output_type": "execute_result"
    }
   ],
   "source": [
    "df_properties.parcelid.unique().shape[0] == df_properties.parcelid.shape[0]"
   ]
  },
  {
   "cell_type": "code",
   "execution_count": 736,
   "metadata": {},
   "outputs": [
    {
     "data": {
      "text/plain": [
       "0.015897503097302965"
      ]
     },
     "execution_count": 736,
     "metadata": {},
     "output_type": "execute_result"
    }
   ],
   "source": [
    "# put just treat houses that are sold multiple times as different hosues for simplication purpose\n",
    "(df_transactions.parcelid.value_counts() > 1).sum() * 1.0 / df_transactions.shape[0]"
   ]
  },
  {
   "cell_type": "markdown",
   "metadata": {},
   "source": [
    "### merge data"
   ]
  },
  {
   "cell_type": "code",
   "execution_count": 737,
   "metadata": {},
   "outputs": [],
   "source": [
    "df = pd.merge(left=df_properties, right=df_transactions, on='parcelid')\n",
    "df_pred = pd.merge(left=df_properties, right=df_transactions.drop_duplicates(subset='parcelid',keep='first'), on='parcelid', how='left')"
   ]
  },
  {
   "cell_type": "markdown",
   "metadata": {},
   "source": [
    "### Pre-processing of some fields (remove outliers)"
   ]
  },
  {
   "cell_type": "code",
   "execution_count": 738,
   "metadata": {},
   "outputs": [
    {
     "data": {
      "text/plain": [
       "(167888, 60)"
      ]
     },
     "execution_count": 738,
     "metadata": {},
     "output_type": "execute_result"
    }
   ],
   "source": [
    "df.shape"
   ]
  },
  {
   "cell_type": "markdown",
   "metadata": {},
   "source": [
    "### feature engineering"
   ]
  },
  {
   "cell_type": "markdown",
   "metadata": {},
   "source": [
    "### Define features"
   ]
  },
  {
   "cell_type": "code",
   "execution_count": 739,
   "metadata": {},
   "outputs": [],
   "source": [
    "all_fields = set(df.columns)\n",
    "\n",
    "# these are fields that are used to identify fields\n",
    "identifiers = set(['transactiondate', 'parcelid'])\n",
    "\n",
    "# log error that we want to model\n",
    "label = set(['logerror'])\n",
    "\n",
    "# the following are categorical features\n",
    "feats_objects = set(df.columns[df.dtypes==object])\n",
    "#  ['taxdelinquencyflag',\n",
    "#  'propertycountylandusecode',\n",
    "#  'propertyzoningdesc',\n",
    "#  'fireplaceflag',\n",
    "#  'hashottuborspa']\n",
    "\n",
    "# the following are numerical features that should be treated as categorical features\n",
    "feats_numeric_to_categorical = set([\n",
    "    'airconditioningtypeid',\n",
    "    'architecturalstyletypeid',\n",
    "    'buildingqualitytypeid',\n",
    "    'buildingclasstypeid',\n",
    "    'decktypeid',\n",
    "    'fips',\n",
    "    'heatingorsystemtypeid',\n",
    "    'propertylandusetypeid',\n",
    "    'regionidcounty',\n",
    "    'regionidcity',\n",
    "    'regionidzip',\n",
    "    'regionidneighborhood',\n",
    "    'storytypeid',\n",
    "    'typeconstructiontypeid',\n",
    "    'yearbuilt',\n",
    "    'assessmentyear',\n",
    "    'taxdelinquencyyear'\n",
    "])\n",
    "\n",
    "\n",
    "# the rest are numeric features\n",
    "feats_numeric = set([\n",
    "    'basementsqft',\n",
    "    'bathroomcnt',\n",
    "    'bedroomcnt',\n",
    "    'calculatedbathnbr',\n",
    "    'threequarterbathnbr',\n",
    "    'finishedfloor1squarefeet',\n",
    "    'calculatedfinishedsquarefeet',\n",
    "    'finishedsquarefeet6',\n",
    "    'finishedsquarefeet12',\n",
    "    'finishedsquarefeet13',\n",
    "    'finishedsquarefeet15',\n",
    "    'finishedsquarefeet50',\n",
    "    'fireplacecnt',\n",
    "    'fullbathcnt',\n",
    "    'garagecarcnt',\n",
    "    'garagetotalsqft',\n",
    "    'hashottuborspa',\n",
    "    'lotsizesquarefeet',\n",
    "    'numberofstories',\n",
    "    'poolcnt',\n",
    "    'poolsizesum',\n",
    "    'pooltypeid10',\n",
    "    'pooltypeid2',\n",
    "    'pooltypeid7',\n",
    "    'roomcnt',\n",
    "    'unitcnt',\n",
    "    'yardbuildingsqft17',\n",
    "    'yardbuildingsqft26',\n",
    "    'taxvaluedollarcnt',\n",
    "    'structuretaxvaluedollarcnt',\n",
    "    'landtaxvaluedollarcnt',\n",
    "    'taxamount'\n",
    "])\n",
    "\n",
    "# fields that are thrown away for now\n",
    "feats_for_consideration_later = set([\n",
    "    'latitude',\n",
    "    'longitude',\n",
    "    'rawcensustractandblock',\n",
    "    'censustractandblock',\n",
    "])"
   ]
  },
  {
   "cell_type": "code",
   "execution_count": 740,
   "metadata": {},
   "outputs": [],
   "source": [
    "feats_categorical = feats_numeric_to_categorical | feats_objects\n",
    "feats_numeric = feats_numeric\n",
    "feats = feats_categorical | feats_numeric\n",
    "\n",
    "feats_categorical = list(feats_categorical)\n",
    "feats_numeric = list(feats_numeric)\n",
    "feats = list(feats)"
   ]
  },
  {
   "cell_type": "markdown",
   "metadata": {},
   "source": [
    "### convert categorical features"
   ]
  },
  {
   "cell_type": "code",
   "execution_count": 741,
   "metadata": {},
   "outputs": [],
   "source": [
    "# need to impute all these with a `missing` value first\n",
    "df[feats_categorical] = df[feats_categorical].fillna('--unknown--')\n",
    "df_pred[feats_categorical] = df_pred[feats_categorical].fillna('--unknown--')"
   ]
  },
  {
   "cell_type": "code",
   "execution_count": 742,
   "metadata": {},
   "outputs": [],
   "source": [
    "# use label encoder to encode all categorical variables\n",
    "le = LabelEncoder()\n",
    "for feat in feats_categorical:\n",
    "    df_pred[[feat]] = df_pred[[feat]].apply(le.fit_transform)\n",
    "    df[[feat]] = df[[feat]].apply(le.transform)"
   ]
  },
  {
   "cell_type": "markdown",
   "metadata": {},
   "source": [
    "### impute missing values for numeric values"
   ]
  },
  {
   "cell_type": "code",
   "execution_count": 743,
   "metadata": {},
   "outputs": [],
   "source": [
    "imp =  Imputer(missing_values=np.nan,strategy=\"median\",axis=0)\n",
    "\n",
    "df_pred[feats_numeric] = imp.fit_transform(df_pred[feats_numeric])\n",
    "df[feats_numeric] = imp.transform(df[feats_numeric])"
   ]
  },
  {
   "cell_type": "markdown",
   "metadata": {},
   "source": [
    "### split train-test"
   ]
  },
  {
   "cell_type": "code",
   "execution_count": 744,
   "metadata": {},
   "outputs": [],
   "source": [
    "mask_train = df.transactiondate < '2017-06-01'\n",
    "# mask_test_oct = (df.transactiondate >= '2016-10-01') & (df.transactiondate < '2016-11-01')\n",
    "# mask_test_nov = (df.transactiondate >= '2016-11-01') & (df.transactiondate < '2016-12-01')\n",
    "# mask_test_dec = (df.transactiondate >= '2016-12-01') & (df.transactiondate < '2017-01-01')\n",
    "# mask_test = mask_test_oct | mask_test_nov | mask_test_dec\n",
    "mask_test = (df.transactiondate >= '2017-06-01')"
   ]
  },
  {
   "cell_type": "code",
   "execution_count": 745,
   "metadata": {},
   "outputs": [],
   "source": [
    "X_train = df.loc[mask_train, feats].astype(float).values\n",
    "X_test = df.loc[mask_test, feats].astype(float).values\n",
    "\n",
    "y_train = np.array(df.loc[mask_train, 'logerror'].tolist())\n",
    "y_test = np.array(df.loc[mask_test, 'logerror'].tolist())\n",
    "\n",
    "data = (X_train, X_test, y_train, y_test)"
   ]
  },
  {
   "cell_type": "code",
   "execution_count": 746,
   "metadata": {},
   "outputs": [],
   "source": [
    "# save data\n",
    "pickle.dump(data, open('../tmp/training_and_testing_data_2017.pkl', 'w'))"
   ]
  },
  {
   "cell_type": "markdown",
   "metadata": {},
   "source": [
    "### train a XGboost regressor"
   ]
  },
  {
   "cell_type": "code",
   "execution_count": 747,
   "metadata": {},
   "outputs": [],
   "source": [
    "xgb = xgboost.XGBRegressor(n_estimators=200, \n",
    "                           #colsample_bytree=1, \n",
    "                           max_depth=3, \n",
    "                           #reg_alpha=0.001,\n",
    "                           objective='reg:linear'\n",
    "                          )"
   ]
  },
  {
   "cell_type": "code",
   "execution_count": 748,
   "metadata": {},
   "outputs": [
    {
     "data": {
      "text/plain": [
       "XGBRegressor(base_score=0.5, colsample_bylevel=1, colsample_bytree=1, gamma=0,\n",
       "       learning_rate=0.1, max_delta_step=0, max_depth=3,\n",
       "       min_child_weight=1, missing=None, n_estimators=200, nthread=-1,\n",
       "       objective='reg:linear', reg_alpha=0, reg_lambda=1,\n",
       "       scale_pos_weight=1, seed=0, silent=True, subsample=1)"
      ]
     },
     "execution_count": 748,
     "metadata": {},
     "output_type": "execute_result"
    }
   ],
   "source": [
    "xgb.fit(X_train, y_train)"
   ]
  },
  {
   "cell_type": "code",
   "execution_count": 749,
   "metadata": {},
   "outputs": [],
   "source": [
    "y_pred = xgb.predict(X_test)"
   ]
  },
  {
   "cell_type": "code",
   "execution_count": 750,
   "metadata": {},
   "outputs": [
    {
     "data": {
      "text/plain": [
       "<matplotlib.axes._subplots.AxesSubplot at 0x14a5d1850>"
      ]
     },
     "execution_count": 750,
     "metadata": {},
     "output_type": "execute_result"
    },
    {
     "data": {
      "image/png": "[encoded data removed]",
      "text/plain": [
       "<matplotlib.figure.Figure at 0x15c3d3ad0>"
      ]
     },
     "metadata": {},
     "output_type": "display_data"
    }
   ],
   "source": [
    "pd.Series(y_pred).hist()"
   ]
  },
  {
   "cell_type": "code",
   "execution_count": 751,
   "metadata": {},
   "outputs": [
    {
     "data": {
      "text/plain": [
       "0.0001891568778926711"
      ]
     },
     "execution_count": 751,
     "metadata": {},
     "output_type": "execute_result"
    }
   ],
   "source": [
    "explained_variance_score(y_pred=y_pred, y_true=y_test)"
   ]
  },
  {
   "cell_type": "code",
   "execution_count": 752,
   "metadata": {},
   "outputs": [
    {
     "data": {
      "text/plain": [
       "0.069960510979235044"
      ]
     },
     "execution_count": 752,
     "metadata": {},
     "output_type": "execute_result"
    }
   ],
   "source": [
    "mean_absolute_error(y_pred=y_pred, y_true=y_test)"
   ]
  },
  {
   "cell_type": "markdown",
   "metadata": {},
   "source": [
    "### generate final model"
   ]
  },
  {
   "cell_type": "code",
   "execution_count": 753,
   "metadata": {},
   "outputs": [
    {
     "data": {
      "text/plain": [
       "XGBRegressor(base_score=0.5, colsample_bylevel=1, colsample_bytree=1, gamma=0,\n",
       "       learning_rate=0.1, max_delta_step=0, max_depth=3,\n",
       "       min_child_weight=1, missing=None, n_estimators=200, nthread=-1,\n",
       "       objective='reg:linear', reg_alpha=0, reg_lambda=1,\n",
       "       scale_pos_weight=1, seed=0, silent=True, subsample=1)"
      ]
     },
     "execution_count": 753,
     "metadata": {},
     "output_type": "execute_result"
    }
   ],
   "source": [
    "xgb.fit(np.concatenate((X_train, X_test), axis=0),np.concatenate((y_train, y_test), axis = 0))"
   ]
  },
  {
   "cell_type": "markdown",
   "metadata": {},
   "source": [
    "## Generate submission file"
   ]
  },
  {
   "cell_type": "code",
   "execution_count": 754,
   "metadata": {},
   "outputs": [],
   "source": [
    "# imputed missing values previously"
   ]
  },
  {
   "cell_type": "code",
   "execution_count": 755,
   "metadata": {},
   "outputs": [],
   "source": [
    "y_pred = xgb.predict((df_pred[feats].values))"
   ]
  },
  {
   "cell_type": "code",
   "execution_count": 756,
   "metadata": {},
   "outputs": [],
   "source": [
    "# assume all 6 months have the same prediction results."
   ]
  },
  {
   "cell_type": "code",
   "execution_count": 757,
   "metadata": {},
   "outputs": [],
   "source": [
    "df_submission = df_pred[['parcelid','logerror']]"
   ]
  },
  {
   "cell_type": "code",
   "execution_count": 758,
   "metadata": {},
   "outputs": [
    {
     "name": "stderr",
     "output_type": "stream",
     "text": [
      "/Users/dai_li/Workspace/VirtualEnv/competition/lib/python2.7/site-packages/ipykernel_launcher.py:1: SettingWithCopyWarning: \n",
      "A value is trying to be set on a copy of a slice from a DataFrame.\n",
      "Try using .loc[row_indexer,col_indexer] = value instead\n",
      "\n",
      "See the caveats in the documentation: http://pandas.pydata.org/pandas-docs/stable/indexing.html#indexing-view-versus-copy\n",
      "  \"\"\"Entry point for launching an IPython kernel.\n"
     ]
    }
   ],
   "source": [
    "df_submission['pred'] = y_pred"
   ]
  },
  {
   "cell_type": "code",
   "execution_count": 759,
   "metadata": {
    "scrolled": true
   },
   "outputs": [
    {
     "name": "stderr",
     "output_type": "stream",
     "text": [
      "/Users/dai_li/Workspace/VirtualEnv/competition/lib/python2.7/site-packages/ipykernel_launcher.py:3: SettingWithCopyWarning: \n",
      "A value is trying to be set on a copy of a slice from a DataFrame.\n",
      "Try using .loc[row_indexer,col_indexer] = value instead\n",
      "\n",
      "See the caveats in the documentation: http://pandas.pydata.org/pandas-docs/stable/indexing.html#indexing-view-versus-copy\n",
      "  This is separate from the ipykernel package so we can avoid doing imports until\n",
      "/Users/dai_li/Workspace/VirtualEnv/competition/lib/python2.7/site-packages/ipykernel_launcher.py:4: SettingWithCopyWarning: \n",
      "A value is trying to be set on a copy of a slice from a DataFrame.\n",
      "Try using .loc[row_indexer,col_indexer] = value instead\n",
      "\n",
      "See the caveats in the documentation: http://pandas.pydata.org/pandas-docs/stable/indexing.html#indexing-view-versus-copy\n",
      "  after removing the cwd from sys.path.\n",
      "/Users/dai_li/Workspace/VirtualEnv/competition/lib/python2.7/site-packages/ipykernel_launcher.py:5: SettingWithCopyWarning: \n",
      "A value is trying to be set on a copy of a slice from a DataFrame.\n",
      "Try using .loc[row_indexer,col_indexer] = value instead\n",
      "\n",
      "See the caveats in the documentation: http://pandas.pydata.org/pandas-docs/stable/indexing.html#indexing-view-versus-copy\n",
      "  \"\"\"\n",
      "/Users/dai_li/Workspace/VirtualEnv/competition/lib/python2.7/site-packages/ipykernel_launcher.py:7: SettingWithCopyWarning: \n",
      "A value is trying to be set on a copy of a slice from a DataFrame.\n",
      "Try using .loc[row_indexer,col_indexer] = value instead\n",
      "\n",
      "See the caveats in the documentation: http://pandas.pydata.org/pandas-docs/stable/indexing.html#indexing-view-versus-copy\n",
      "  import sys\n",
      "/Users/dai_li/Workspace/VirtualEnv/competition/lib/python2.7/site-packages/ipykernel_launcher.py:8: SettingWithCopyWarning: \n",
      "A value is trying to be set on a copy of a slice from a DataFrame.\n",
      "Try using .loc[row_indexer,col_indexer] = value instead\n",
      "\n",
      "See the caveats in the documentation: http://pandas.pydata.org/pandas-docs/stable/indexing.html#indexing-view-versus-copy\n",
      "  \n",
      "/Users/dai_li/Workspace/VirtualEnv/competition/lib/python2.7/site-packages/ipykernel_launcher.py:9: SettingWithCopyWarning: \n",
      "A value is trying to be set on a copy of a slice from a DataFrame.\n",
      "Try using .loc[row_indexer,col_indexer] = value instead\n",
      "\n",
      "See the caveats in the documentation: http://pandas.pydata.org/pandas-docs/stable/indexing.html#indexing-view-versus-copy\n",
      "  if __name__ == '__main__':\n"
     ]
    }
   ],
   "source": [
    "# coalesce actual log error with prediction results\n",
    "\n",
    "df_submission['201610'] = df_submission['logerror'].combine_first(df_submission['pred'])\n",
    "df_submission['201611'] = df_submission['logerror'].combine_first(df_submission['pred'])\n",
    "df_submission['201612'] = df_submission['logerror'].combine_first(df_submission['pred'])\n",
    "\n",
    "df_submission['201710'] = df_submission['logerror'].combine_first(df_submission['pred'])\n",
    "df_submission['201711'] = df_submission['logerror'].combine_first(df_submission['pred'])\n",
    "df_submission['201712'] = df_submission['logerror'].combine_first(df_submission['pred'])"
   ]
  },
  {
   "cell_type": "code",
   "execution_count": 760,
   "metadata": {},
   "outputs": [],
   "source": [
    "del df_submission['logerror']\n",
    "del df_submission['pred']"
   ]
  },
  {
   "cell_type": "code",
   "execution_count": 761,
   "metadata": {},
   "outputs": [
    {
     "data": {
      "text/plain": [
       "True"
      ]
     },
     "execution_count": 761,
     "metadata": {},
     "output_type": "execute_result"
    }
   ],
   "source": [
    "df_submission.shape[0] == 2985217"
   ]
  },
  {
   "cell_type": "code",
   "execution_count": 762,
   "metadata": {},
   "outputs": [],
   "source": [
    "df_submission.to_csv('../data/submission_20171003_2017.csv', header=True, index=False)"
   ]
  },
  {
   "cell_type": "code",
   "execution_count": null,
   "metadata": {},
   "outputs": [],
   "source": []
  },
  {
   "cell_type": "markdown",
   "metadata": {},
   "source": [
    "### train a simple elastic net model"
   ]
  },
  {
   "cell_type": "code",
   "execution_count": 366,
   "metadata": {},
   "outputs": [
    {
     "name": "stdout",
     "output_type": "stream",
     "text": [
      "fitting enet with alpha=1e-05 ..\n",
      "fitting enet with alpha=0.000316227766017 ..\n",
      "fitting enet with alpha=0.01 ..\n",
      "fitting enet with alpha=0.316227766017 ..\n",
      "fitting enet with alpha=10.0 ..\n",
      "Optimal regularization parameter : 1e-05\n"
     ]
    }
   ],
   "source": [
    "alphas = np.logspace(-5, 1, 5)\n",
    "enet = linear_model.ElasticNet(l1_ratio=0.7)\n",
    "train_errors = list()\n",
    "test_errors = list()\n",
    "for alpha in alphas:\n",
    "    print 'fitting enet with alpha={} ..'.format(alpha)\n",
    "    enet.set_params(alpha=alpha)\n",
    "    enet.fit(X_train, y_train)\n",
    "    train_errors.append(enet.score(X_train, y_train))\n",
    "    test_errors.append(enet.score(X_test, y_test))\n",
    "    \n",
    "\n",
    "i_alpha_optim = np.argmax(test_errors)\n",
    "alpha_optim = alphas[i_alpha_optim]\n",
    "print(\"Optimal regularization parameter : %s\" % alpha_optim)\n"
   ]
  },
  {
   "cell_type": "code",
   "execution_count": 367,
   "metadata": {},
   "outputs": [
    {
     "data": {
      "text/plain": [
       "[0.99999971615990368,\n",
       " 0.9997181713348946,\n",
       " 0.77204439825672799,\n",
       " -0.90334030227054807,\n",
       " -0.55500696840416941]"
      ]
     },
     "execution_count": 367,
     "metadata": {},
     "output_type": "execute_result"
    }
   ],
   "source": [
    "test_errors"
   ]
  },
  {
   "cell_type": "code",
   "execution_count": 368,
   "metadata": {},
   "outputs": [],
   "source": [
    "# Estimate the coef_ on full data with optimal regularization parameter\n",
    "enet.set_params(alpha=alpha_optim)\n",
    "coef_ = enet.fit( np.concatenate((X_train, X_test), axis=0),np.concatenate((y_train, y_test), axis = 0)).coef_"
   ]
  },
  {
   "cell_type": "code",
   "execution_count": 369,
   "metadata": {},
   "outputs": [
    {
     "data": {
      "text/plain": [
       "array([  0.00000000e+00,  -0.00000000e+00,   9.99635530e-01,\n",
       "         1.79867474e-12,   8.41575466e-10,  -1.05098144e-10,\n",
       "        -0.00000000e+00,   0.00000000e+00,  -0.00000000e+00,\n",
       "         0.00000000e+00,   1.51867387e-09,   0.00000000e+00,\n",
       "         0.00000000e+00,  -3.04123232e-11,   0.00000000e+00,\n",
       "        -0.00000000e+00,  -0.00000000e+00,   1.63324011e-19,\n",
       "         0.00000000e+00,   1.03769633e-09,  -0.00000000e+00,\n",
       "        -1.95805717e-12,  -0.00000000e+00,  -0.00000000e+00,\n",
       "        -4.93848069e-09,   1.41314952e-09,  -4.38624639e-10,\n",
       "        -0.00000000e+00,  -0.00000000e+00,   0.00000000e+00,\n",
       "         0.00000000e+00,   0.00000000e+00,  -2.71582503e-12,\n",
       "         0.00000000e+00,   0.00000000e+00,  -0.00000000e+00,\n",
       "        -0.00000000e+00,  -0.00000000e+00,   0.00000000e+00,\n",
       "         0.00000000e+00,   5.51807173e-12,  -0.00000000e+00,\n",
       "        -3.23768042e-09,   2.25359881e-12,  -2.72425603e-11,\n",
       "         2.91836845e-11,   3.84585246e-09,   0.00000000e+00,\n",
       "        -0.00000000e+00,   0.00000000e+00,   6.23226254e-12,\n",
       "        -0.00000000e+00,   0.00000000e+00])"
      ]
     },
     "execution_count": 369,
     "metadata": {},
     "output_type": "execute_result"
    }
   ],
   "source": [
    "coef_"
   ]
  },
  {
   "cell_type": "markdown",
   "metadata": {},
   "source": [
    "### visualize"
   ]
  },
  {
   "cell_type": "code",
   "execution_count": 257,
   "metadata": {},
   "outputs": [
    {
     "data": {
      "image/png": "[encoded data removed]",
      "text/plain": [
       "<matplotlib.figure.Figure at 0x10ecc2150>"
      ]
     },
     "metadata": {},
     "output_type": "display_data"
    }
   ],
   "source": [
    "import matplotlib.pyplot as plt\n",
    "plt.subplot(2, 1, 1)\n",
    "plt.semilogx(alphas, train_errors, label='Train')\n",
    "plt.semilogx(alphas, test_errors, label='Test')\n",
    "plt.vlines(alpha_optim, plt.ylim()[0], np.max(test_errors), color='k',\n",
    "           linewidth=3, label='Optimum on test')\n",
    "plt.legend(loc='lower left')\n",
    "plt.ylim([0, 1.2])\n",
    "plt.xlabel('Regularization parameter')\n",
    "plt.ylabel('Performance')\n",
    "\n",
    "# Show estimated coef_ vs true coef\n",
    "plt.subplot(2, 1, 2)\n",
    "plt.plot(coef_, label='Estimated coef')\n",
    "plt.legend()\n",
    "plt.subplots_adjust(0.09, 0.04, 0.94, 0.94, 0.26, 0.26)\n",
    "plt.show()"
   ]
  },
  {
   "cell_type": "markdown",
   "metadata": {},
   "source": [
    "### generate prediction results for submission"
   ]
  },
  {
   "cell_type": "code",
   "execution_count": 86,
   "metadata": {},
   "outputs": [],
   "source": [
    "df_submission_sample = pd.read_csv('../data/sample_submission.csv')"
   ]
  },
  {
   "cell_type": "code",
   "execution_count": 370,
   "metadata": {
    "scrolled": true
   },
   "outputs": [
    {
     "data": {
      "text/html": [
       "<div>\n",
       "<style>\n",
       "    .dataframe thead tr:only-child th {\n",
       "        text-align: right;\n",
       "    }\n",
       "\n",
       "    .dataframe thead th {\n",
       "        text-align: left;\n",
       "    }\n",
       "\n",
       "    .dataframe tbody tr th {\n",
       "        vertical-align: top;\n",
       "    }\n",
       "</style>\n",
       "<table border=\"1\" class=\"dataframe\">\n",
       "  <thead>\n",
       "    <tr style=\"text-align: right;\">\n",
       "      <th></th>\n",
       "      <th>ParcelId</th>\n",
       "      <th>201610</th>\n",
       "      <th>201611</th>\n",
       "      <th>201612</th>\n",
       "      <th>201710</th>\n",
       "      <th>201711</th>\n",
       "      <th>201712</th>\n",
       "    </tr>\n",
       "  </thead>\n",
       "  <tbody>\n",
       "    <tr>\n",
       "      <th>0</th>\n",
       "      <td>10754147</td>\n",
       "      <td>0</td>\n",
       "      <td>0</td>\n",
       "      <td>0</td>\n",
       "      <td>0</td>\n",
       "      <td>0</td>\n",
       "      <td>0</td>\n",
       "    </tr>\n",
       "    <tr>\n",
       "      <th>1</th>\n",
       "      <td>10759547</td>\n",
       "      <td>0</td>\n",
       "      <td>0</td>\n",
       "      <td>0</td>\n",
       "      <td>0</td>\n",
       "      <td>0</td>\n",
       "      <td>0</td>\n",
       "    </tr>\n",
       "    <tr>\n",
       "      <th>2</th>\n",
       "      <td>10843547</td>\n",
       "      <td>0</td>\n",
       "      <td>0</td>\n",
       "      <td>0</td>\n",
       "      <td>0</td>\n",
       "      <td>0</td>\n",
       "      <td>0</td>\n",
       "    </tr>\n",
       "    <tr>\n",
       "      <th>3</th>\n",
       "      <td>10859147</td>\n",
       "      <td>0</td>\n",
       "      <td>0</td>\n",
       "      <td>0</td>\n",
       "      <td>0</td>\n",
       "      <td>0</td>\n",
       "      <td>0</td>\n",
       "    </tr>\n",
       "    <tr>\n",
       "      <th>4</th>\n",
       "      <td>10879947</td>\n",
       "      <td>0</td>\n",
       "      <td>0</td>\n",
       "      <td>0</td>\n",
       "      <td>0</td>\n",
       "      <td>0</td>\n",
       "      <td>0</td>\n",
       "    </tr>\n",
       "  </tbody>\n",
       "</table>\n",
       "</div>"
      ],
      "text/plain": [
       "   ParcelId  201610  201611  201612  201710  201711  201712\n",
       "0  10754147       0       0       0       0       0       0\n",
       "1  10759547       0       0       0       0       0       0\n",
       "2  10843547       0       0       0       0       0       0\n",
       "3  10859147       0       0       0       0       0       0\n",
       "4  10879947       0       0       0       0       0       0"
      ]
     },
     "execution_count": 370,
     "metadata": {},
     "output_type": "execute_result"
    }
   ],
   "source": [
    "df_submission_sample.head()"
   ]
  },
  {
   "cell_type": "code",
   "execution_count": 371,
   "metadata": {},
   "outputs": [],
   "source": [
    "df_pred = df_properties.loc[:, feat]"
   ]
  },
  {
   "cell_type": "code",
   "execution_count": 372,
   "metadata": {},
   "outputs": [],
   "source": [
    "# note I should not use oct-dec's test data to train the final model. will fix later\n",
    "# y_pred_oct = enet.predict(df.loc[mask_test_oct, feat].astype(float).values)\n",
    "# y_pred_nov = enet.predict(df.loc[mask_test_nov, feat].astype(float).values)\n",
    "# y_pred_dec = enet.predict(df.loc[mask_test_dec, feat].astype(float).values)\n",
    "y_pred = enet.predict(imp.transform(df_pred.astype(float).values))"
   ]
  },
  {
   "cell_type": "code",
   "execution_count": 373,
   "metadata": {},
   "outputs": [
    {
     "data": {
      "text/plain": [
       "(array([      1,       3,       8,      65, 2985118,      14,       3,\n",
       "              2,       2,       1]),\n",
       " array([ 0.00412694,  0.00453625,  0.00494556,  0.00535486,  0.00576417,\n",
       "         0.00617347,  0.00658278,  0.00699208,  0.00740139,  0.00781069,\n",
       "         0.00822   ]))"
      ]
     },
     "execution_count": 373,
     "metadata": {},
     "output_type": "execute_result"
    }
   ],
   "source": [
    "np.histogram(y_pred)"
   ]
  },
  {
   "cell_type": "code",
   "execution_count": 374,
   "metadata": {},
   "outputs": [],
   "source": [
    "df_bk = df_pred"
   ]
  },
  {
   "cell_type": "code",
   "execution_count": 375,
   "metadata": {},
   "outputs": [],
   "source": [
    "df_bk.loc[:, '201610'] = y_pred\n",
    "df_bk.loc[:, '201611'] = y_pred\n",
    "df_bk.loc[:, '201612'] = y_pred\n",
    "df_bk.loc[:, '201710'] = y_pred\n",
    "df_bk.loc[:, '201711'] = y_pred\n",
    "df_bk.loc[:, '201712'] = y_pred"
   ]
  },
  {
   "cell_type": "code",
   "execution_count": 380,
   "metadata": {},
   "outputs": [],
   "source": [
    "df_bk = df_bk[['201610','201611','201612','201710','201711','201712']]"
   ]
  },
  {
   "cell_type": "code",
   "execution_count": 381,
   "metadata": {},
   "outputs": [],
   "source": [
    "df_submission = pd.concat((df_properties[['parcelid']], df_bk), axis = 1)"
   ]
  },
  {
   "cell_type": "code",
   "execution_count": 382,
   "metadata": {},
   "outputs": [],
   "source": [
    "# del df_submission['parcelid']\n",
    "df_submission.fillna(0, inplace=True)"
   ]
  },
  {
   "cell_type": "code",
   "execution_count": 277,
   "metadata": {},
   "outputs": [],
   "source": [
    "# df_submission = pd.merge(\n",
    "#     left=df_submission_sample[['ParcelId']],\n",
    "#     right=df_bk,\n",
    "#     left_on ='ParcelId',\n",
    "#     right_on='parcelid',\n",
    "#     how = 'left'\n",
    "# )"
   ]
  },
  {
   "cell_type": "code",
   "execution_count": 383,
   "metadata": {},
   "outputs": [
    {
     "data": {
      "text/html": [
       "<div>\n",
       "<style>\n",
       "    .dataframe thead tr:only-child th {\n",
       "        text-align: right;\n",
       "    }\n",
       "\n",
       "    .dataframe thead th {\n",
       "        text-align: left;\n",
       "    }\n",
       "\n",
       "    .dataframe tbody tr th {\n",
       "        vertical-align: top;\n",
       "    }\n",
       "</style>\n",
       "<table border=\"1\" class=\"dataframe\">\n",
       "  <thead>\n",
       "    <tr style=\"text-align: right;\">\n",
       "      <th></th>\n",
       "      <th>parcelid</th>\n",
       "      <th>201610</th>\n",
       "      <th>201611</th>\n",
       "      <th>201612</th>\n",
       "      <th>201710</th>\n",
       "      <th>201711</th>\n",
       "      <th>201712</th>\n",
       "    </tr>\n",
       "  </thead>\n",
       "  <tbody>\n",
       "    <tr>\n",
       "      <th>0</th>\n",
       "      <td>10754147</td>\n",
       "      <td>0.005899</td>\n",
       "      <td>0.005899</td>\n",
       "      <td>0.005899</td>\n",
       "      <td>0.005899</td>\n",
       "      <td>0.005899</td>\n",
       "      <td>0.005899</td>\n",
       "    </tr>\n",
       "    <tr>\n",
       "      <th>1</th>\n",
       "      <td>10759547</td>\n",
       "      <td>0.005899</td>\n",
       "      <td>0.005899</td>\n",
       "      <td>0.005899</td>\n",
       "      <td>0.005899</td>\n",
       "      <td>0.005899</td>\n",
       "      <td>0.005899</td>\n",
       "    </tr>\n",
       "    <tr>\n",
       "      <th>2</th>\n",
       "      <td>10843547</td>\n",
       "      <td>0.005972</td>\n",
       "      <td>0.005972</td>\n",
       "      <td>0.005972</td>\n",
       "      <td>0.005972</td>\n",
       "      <td>0.005972</td>\n",
       "      <td>0.005972</td>\n",
       "    </tr>\n",
       "    <tr>\n",
       "      <th>3</th>\n",
       "      <td>10859147</td>\n",
       "      <td>0.005904</td>\n",
       "      <td>0.005904</td>\n",
       "      <td>0.005904</td>\n",
       "      <td>0.005904</td>\n",
       "      <td>0.005904</td>\n",
       "      <td>0.005904</td>\n",
       "    </tr>\n",
       "    <tr>\n",
       "      <th>4</th>\n",
       "      <td>10879947</td>\n",
       "      <td>0.005904</td>\n",
       "      <td>0.005904</td>\n",
       "      <td>0.005904</td>\n",
       "      <td>0.005904</td>\n",
       "      <td>0.005904</td>\n",
       "      <td>0.005904</td>\n",
       "    </tr>\n",
       "  </tbody>\n",
       "</table>\n",
       "</div>"
      ],
      "text/plain": [
       "   parcelid    201610    201611    201612    201710    201711    201712\n",
       "0  10754147  0.005899  0.005899  0.005899  0.005899  0.005899  0.005899\n",
       "1  10759547  0.005899  0.005899  0.005899  0.005899  0.005899  0.005899\n",
       "2  10843547  0.005972  0.005972  0.005972  0.005972  0.005972  0.005972\n",
       "3  10859147  0.005904  0.005904  0.005904  0.005904  0.005904  0.005904\n",
       "4  10879947  0.005904  0.005904  0.005904  0.005904  0.005904  0.005904"
      ]
     },
     "execution_count": 383,
     "metadata": {},
     "output_type": "execute_result"
    }
   ],
   "source": [
    "df_submission.head()"
   ]
  },
  {
   "cell_type": "code",
   "execution_count": 384,
   "metadata": {},
   "outputs": [
    {
     "data": {
      "text/plain": [
       "True"
      ]
     },
     "execution_count": 384,
     "metadata": {},
     "output_type": "execute_result"
    }
   ],
   "source": [
    "df_submission.shape[0] == 2985217"
   ]
  },
  {
   "cell_type": "code",
   "execution_count": 385,
   "metadata": {},
   "outputs": [],
   "source": [
    "df_submission.to_csv('../data/submission.csv', header=True, index=False)"
   ]
  },
  {
   "cell_type": "markdown",
   "metadata": {},
   "source": [
    "## submission requirements:\n",
    "1. have header\n",
    "2. no row index\n",
    "3. Evaluation Exception: Submission must be 2985217 rows\n",
    "4. fill NAs with 0"
   ]
  },
  {
   "cell_type": "markdown",
   "metadata": {},
   "source": [
    "### random search"
   ]
  },
  {
   "cell_type": "code",
   "execution_count": null,
   "metadata": {},
   "outputs": [],
   "source": [
    "MODEL = {\"enet\": sklearn.linear_model.ElasticNet(random_state=42),\n",
    "         }\n",
    "\n",
    "# tune the hyperparameters via a randomized search\n",
    "# params for xgb\n",
    "elastic_net_params = {\n",
    "    \"max_depth\": range(5, 26, 5),\n",
    "}\n",
    "\n",
    "\n",
    "# initialize params dict\n",
    "PARAMS = {\n",
    "    'xgb': xgb_params,\n",
    "    'rfc': rfc_params,\n",
    "    'gbc': gbc_params\n",
    "}\n",
    "\n",
    "# define cost function\n",
    "pr_auc_scorer = make_scorer(average_precision_score)\n",
    "\n",
    "# define num iters\n",
    "N_ITER = {\n",
    "    'enet': 1,\n",
    "}"
   ]
  }
 ],
 "metadata": {
  "kernelspec": {
   "display_name": "Python 2",
   "language": "python",
   "name": "python2"
  },
  "language_info": {
   "codemirror_mode": {
    "name": "ipython",
    "version": 2
   },
   "file_extension": ".py",
   "mimetype": "text/x-python",
   "name": "python",
   "nbconvert_exporter": "python",
   "pygments_lexer": "ipython2",
   "version": "2.7.11"
  }
 },
 "nbformat": 4,
 "nbformat_minor": 2
}
